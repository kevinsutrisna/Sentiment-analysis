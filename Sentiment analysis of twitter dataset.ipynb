{
  "cells": [
    {
      "cell_type": "markdown",
      "metadata": {
        "id": "RER9WjluQa8c"
      },
      "source": [
        "# Load data from kaggle"
      ]
    },
    {
      "cell_type": "code",
      "execution_count": null,
      "metadata": {
        "id": "zn34ypuvQkPQ"
      },
      "outputs": [],
      "source": [
        "!pip install -q kaggle"
      ]
    },
    {
      "cell_type": "code",
      "execution_count": null,
      "metadata": {
        "colab": {
          "base_uri": "https://localhost:8080/"
        },
        "id": "NTEPM-tgQ5xG",
        "outputId": "c05c1b04-5e9e-4cbf-b865-f49da56fdd39"
      },
      "outputs": [
        {
          "name": "stdout",
          "output_type": "stream",
          "text": [
            "Mounted at /content/drive\n"
          ]
        }
      ],
      "source": [
        "from google.colab import drive\n",
        "drive.mount('/content/drive')"
      ]
    },
    {
      "cell_type": "code",
      "execution_count": null,
      "metadata": {
        "colab": {
          "base_uri": "https://localhost:8080/"
        },
        "id": "O5qrdBFNRJXI",
        "outputId": "c915a3f7-5c60-4626-90d6-108365682104"
      },
      "outputs": [
        {
          "name": "stdout",
          "output_type": "stream",
          "text": [
            "cp: cannot stat '/content/drive/My Drive/Data Analytics/kaggle.json': No such file or directory\n"
          ]
        }
      ],
      "source": [
        "!mkdir -p ~/.kaggle\n",
        "!cp /content/drive/My\\ Drive/Data\\ Analytics/kaggle.json ~/.kaggle/\n"
      ]
    },
    {
      "cell_type": "code",
      "execution_count": null,
      "metadata": {
        "colab": {
          "base_uri": "https://localhost:8080/"
        },
        "id": "rTeqDtxWSvcV",
        "outputId": "6ad496e7-7358-4915-9c31-fd4dd5bc5f02"
      },
      "outputs": [
        {
          "name": "stdout",
          "output_type": "stream",
          "text": [
            "chmod: cannot access '/root/.kaggle/kaggle.json': No such file or directory\n"
          ]
        }
      ],
      "source": [
        "!chmod 600 ~/.kaggle/kaggle.json"
      ]
    },
    {
      "cell_type": "code",
      "execution_count": null,
      "metadata": {
        "colab": {
          "base_uri": "https://localhost:8080/"
        },
        "id": "f6-y_ZkzTaCx",
        "outputId": "d9cae8ae-8e55-4dac-c911-a2319bd3fba6"
      },
      "outputs": [
        {
          "name": "stdout",
          "output_type": "stream",
          "text": [
            "Dataset URL: https://www.kaggle.com/datasets/jp797498e/twitter-entity-sentiment-analysis\n",
            "License(s): CC0-1.0\n",
            "Downloading twitter-entity-sentiment-analysis.zip to /content\n",
            "  0% 0.00/1.99M [00:00<?, ?B/s]\n",
            "100% 1.99M/1.99M [00:00<00:00, 64.9MB/s]\n"
          ]
        }
      ],
      "source": [
        "!kaggle datasets download -d jp797498e/twitter-entity-sentiment-analysis"
      ]
    },
    {
      "cell_type": "code",
      "execution_count": null,
      "metadata": {
        "colab": {
          "base_uri": "https://localhost:8080/"
        },
        "id": "_Uobcm89XV8u",
        "outputId": "0605a079-134e-45ad-f838-43f722ec6713"
      },
      "outputs": [
        {
          "name": "stdout",
          "output_type": "stream",
          "text": [
            "Archive:  /content/twitter-entity-sentiment-analysis.zip\n",
            "  inflating: /content/twitter-entity-sentiment-analysis/twitter_training.csv  \n",
            "  inflating: /content/twitter-entity-sentiment-analysis/twitter_validation.csv  \n"
          ]
        }
      ],
      "source": [
        "!unzip /content/twitter-entity-sentiment-analysis.zip -d /content/twitter-entity-sentiment-analysis"
      ]
    },
    {
      "cell_type": "markdown",
      "metadata": {
        "id": "1ZGdnGoQWo3V"
      },
      "source": [
        "# Data preproccesing"
      ]
    },
    {
      "cell_type": "code",
      "execution_count": null,
      "metadata": {
        "id": "91nwuHHXXDSR"
      },
      "outputs": [],
      "source": [
        "import pandas as pd\n",
        "import matplotlib.pyplot as plt\n",
        "import seaborn as sns\n",
        "import re\n",
        "import nltk\n",
        "from nltk.corpus import stopwords"
      ]
    },
    {
      "cell_type": "code",
      "execution_count": null,
      "metadata": {
        "id": "stMYw9_ZXtLz"
      },
      "outputs": [],
      "source": [
        "data_training = pd.read_csv('/content/twitter-entity-sentiment-analysis/twitter_training.csv')\n",
        "data_validation = pd.read_csv('/content/twitter-entity-sentiment-analysis/twitter_validation.csv')"
      ]
    },
    {
      "cell_type": "code",
      "execution_count": null,
      "metadata": {
        "colab": {
          "base_uri": "https://localhost:8080/"
        },
        "id": "yZnuyYYDXzhr",
        "outputId": "878287e5-6279-416f-c208-26dc63ec32eb"
      },
      "outputs": [
        {
          "name": "stdout",
          "output_type": "stream",
          "text": [
            "   tweetID       entity sentiment  \\\n",
            "0     2401  Borderlands  Positive   \n",
            "1     2401  Borderlands  Positive   \n",
            "2     2401  Borderlands  Positive   \n",
            "3     2401  Borderlands  Positive   \n",
            "4     2401  Borderlands  Positive   \n",
            "\n",
            "                                             comment  \n",
            "0  I am coming to the borders and I will kill you...  \n",
            "1  im getting on borderlands and i will kill you ...  \n",
            "2  im coming on borderlands and i will murder you...  \n",
            "3  im getting on borderlands 2 and i will murder ...  \n",
            "4  im getting into borderlands and i can murder y...  \n",
            "   tweetID     entity sentiment  \\\n",
            "0      352     Amazon   Neutral   \n",
            "1     8312  Microsoft  Negative   \n",
            "2     4371      CS-GO  Negative   \n",
            "3     4433     Google   Neutral   \n",
            "4     6273       FIFA  Negative   \n",
            "\n",
            "                                             comment  \n",
            "0  BBC News - Amazon boss Jeff Bezos rejects clai...  \n",
            "1  @Microsoft Why do I pay for WORD when it funct...  \n",
            "2  CSGO matchmaking is so full of closet hacking,...  \n",
            "3  Now the President is slapping Americans in the...  \n",
            "4  Hi @EAHelp I’ve had Madeleine McCann in my cel...  \n"
          ]
        },
        {
          "data": {
            "text/plain": [
              "['tweetID', 'entity', 'sentiment', 'comment']"
            ]
          },
          "execution_count": 10,
          "metadata": {},
          "output_type": "execute_result"
        }
      ],
      "source": [
        "column_name=['tweetID','entity','sentiment','comment']\n",
        "data_training.columns=column_name\n",
        "data_validation.columns=column_name\n",
        "print(data_training.head())\n",
        "print(data_validation.head())\n",
        "data_training.columns.tolist()\n",
        "data_validation.columns.tolist()"
      ]
    },
    {
      "cell_type": "code",
      "execution_count": null,
      "metadata": {
        "colab": {
          "base_uri": "https://localhost:8080/"
        },
        "id": "wYWXLTVF6dsb",
        "outputId": "dce13eb0-82d6-4a14-8539-34d6bd0b55ec"
      },
      "outputs": [
        {
          "name": "stdout",
          "output_type": "stream",
          "text": [
            "Duplicate data training:  2700\n",
            "Duplicate data validation:  0\n",
            "Null data training:\n",
            " tweetID        0\n",
            "entity         0\n",
            "sentiment      0\n",
            "comment      686\n",
            "dtype: int64\n",
            "Null data validation:\n",
            " tweetID      0\n",
            "entity       0\n",
            "sentiment    0\n",
            "comment      0\n",
            "dtype: int64\n"
          ]
        }
      ],
      "source": [
        "print('Duplicate data training: ', data_training.duplicated().sum())\n",
        "print('Duplicate data validation: ', data_validation.duplicated().sum())\n",
        "print('Null data training:\\n', data_training.isnull().sum())\n",
        "print('Null data validation:\\n', data_validation.isnull().sum())\n"
      ]
    },
    {
      "cell_type": "code",
      "execution_count": null,
      "metadata": {
        "id": "6kT47oUD7EEu"
      },
      "outputs": [],
      "source": [
        "data_training.dropna(inplace=True)\n",
        "data_training.drop_duplicates(inplace=True)"
      ]
    },
    {
      "cell_type": "code",
      "execution_count": null,
      "metadata": {
        "colab": {
          "base_uri": "https://localhost:8080/"
        },
        "id": "M_fGlfS28y7L",
        "outputId": "68c5e48b-5815-49b7-e3f9-0a1c9a58bc7d"
      },
      "outputs": [
        {
          "name": "stdout",
          "output_type": "stream",
          "text": [
            "Duplicate data training:  0\n",
            "Null data training:\n",
            " tweetID      0\n",
            "entity       0\n",
            "sentiment    0\n",
            "comment      0\n",
            "dtype: int64\n"
          ]
        }
      ],
      "source": [
        "print('Duplicate data training: ', data_training.duplicated().sum())\n",
        "print('Null data training:\\n', data_training.isnull().sum())"
      ]
    },
    {
      "cell_type": "code",
      "execution_count": null,
      "metadata": {
        "id": "flqdpn6b9cdv"
      },
      "outputs": [],
      "source": [
        "data_training.drop(columns=['tweetID','entity'],inplace=True)\n",
        "data_validation.drop(columns=['tweetID','entity'],inplace=True)"
      ]
    },
    {
      "cell_type": "code",
      "execution_count": null,
      "metadata": {
        "colab": {
          "base_uri": "https://localhost:8080/"
        },
        "id": "-BYuyJY2_HNh",
        "outputId": "e593c2aa-ba01-4fe9-ac4b-7fbcf6f385ec"
      },
      "outputs": [
        {
          "name": "stdout",
          "output_type": "stream",
          "text": [
            "  sentiment                                            comment\n",
            "0  Positive  I am coming to the borders and I will kill you...\n",
            "1  Positive  im getting on borderlands and i will kill you ...\n",
            "2  Positive  im coming on borderlands and i will murder you...\n",
            "3  Positive  im getting on borderlands 2 and i will murder ...\n",
            "4  Positive  im getting into borderlands and i can murder y...\n",
            "  sentiment                                            comment\n",
            "0   Neutral  BBC News - Amazon boss Jeff Bezos rejects clai...\n",
            "1  Negative  @Microsoft Why do I pay for WORD when it funct...\n",
            "2  Negative  CSGO matchmaking is so full of closet hacking,...\n",
            "3   Neutral  Now the President is slapping Americans in the...\n",
            "4  Negative  Hi @EAHelp I’ve had Madeleine McCann in my cel...\n"
          ]
        }
      ],
      "source": [
        "print(data_training.head())\n",
        "print(data_validation.head())"
      ]
    },
    {
      "cell_type": "code",
      "execution_count": null,
      "metadata": {
        "colab": {
          "base_uri": "https://localhost:8080/"
        },
        "id": "xTMCDjDM9sKb",
        "outputId": "a1668138-93ba-4836-a209-4c0ce90dad0a"
      },
      "outputs": [
        {
          "name": "stderr",
          "output_type": "stream",
          "text": [
            "[nltk_data] Downloading package stopwords to /root/nltk_data...\n",
            "[nltk_data]   Unzipping corpora/stopwords.zip.\n"
          ]
        }
      ],
      "source": [
        "nltk.download('stopwords')\n",
        "stop_words = set(stopwords.words('english'))\n",
        "\n",
        "def clean_text(text):\n",
        "    text = re.sub(r'\\d+', '', text)\n",
        "    text = re.sub(r'\\W', ' ', text)\n",
        "    text = re.sub(r'\\s+', ' ', text)\n",
        "    text = text.lower()\n",
        "    text = ' '.join([word for word in text.split() if word not in stop_words])\n",
        "    return text\n",
        "\n",
        "data_training['comment'] = data_training['comment'].apply(clean_text)\n",
        "data_validation['comment'] = data_validation['comment'].apply(clean_text)\n"
      ]
    },
    {
      "cell_type": "code",
      "execution_count": null,
      "metadata": {
        "colab": {
          "base_uri": "https://localhost:8080/",
          "height": 521
        },
        "id": "R1-TcDxV_8FZ",
        "outputId": "1bed1354-5bea-4b4c-9d03-3f5d7fdee6bd"
      },
      "outputs": [
        {
          "data": {
            "image/png": "[encoded data removed]",
            "text/plain": [
              "<Figure size 800x600 with 1 Axes>"
            ]
          },
          "metadata": {},
          "output_type": "display_data"
        }
      ],
      "source": [
        "sentiment_counts = data_training['sentiment'].value_counts()\n",
        "\n",
        "plt.figure(figsize=(8, 6))\n",
        "plt.pie(sentiment_counts.values, labels=sentiment_counts.index, autopct='%1.1f%%', startangle=140)\n",
        "plt.title('Sentiment Distribution')\n",
        "plt.axis('equal')\n",
        "plt.show()"
      ]
    },
    {
      "cell_type": "markdown",
      "metadata": {
        "id": "dvHzSNOV_EsI"
      },
      "source": []
    },
    {
      "cell_type": "markdown",
      "metadata": {
        "id": "znlYxH2RCmIb"
      },
      "source": [
        "# Data proccesing"
      ]
    },
    {
      "cell_type": "code",
      "execution_count": null,
      "metadata": {
        "id": "ECRXe78-CqAM"
      },
      "outputs": [],
      "source": [
        "from sklearn.naive_bayes import MultinomialNB\n",
        "from sklearn.feature_extraction.text import CountVectorizer\n",
        "from sklearn.metrics import classification_report\n",
        "from sklearn.svm import SVC\n",
        "import pandas as pd\n",
        "from sklearn.ensemble import RandomForestClassifier\n",
        "import matplotlib.pyplot as plt\n",
        "import seaborn as sns"
      ]
    },
    {
      "cell_type": "code",
      "execution_count": null,
      "metadata": {
        "id": "OPD1L0bcZZtw"
      },
      "outputs": [],
      "source": [
        "vectorizer = CountVectorizer()\n",
        "X_train = vectorizer.fit_transform(data_training['comment'])\n",
        "y_train = data_training['sentiment']\n",
        "X_test = vectorizer.transform(data_validation['comment'])\n",
        "y_test = data_validation['sentiment']"
      ]
    },
    {
      "cell_type": "code",
      "execution_count": null,
      "metadata": {
        "id": "wPzsoTVADMPX"
      },
      "outputs": [],
      "source": [
        "nb_classifier = MultinomialNB()\n",
        "nb_classifier.fit(X_train, y_train)\n",
        "predictions = nb_classifier.predict(X_test)"
      ]
    },
    {
      "cell_type": "code",
      "execution_count": null,
      "metadata": {
        "colab": {
          "base_uri": "https://localhost:8080/"
        },
        "id": "h1Js47IC4fZb",
        "outputId": "c600a196-d229-4efa-b612-47f7a07c2565"
      },
      "outputs": [
        {
          "name": "stdout",
          "output_type": "stream",
          "text": [
            "Classification Report Naive Bayes:\n",
            "              precision    recall  f1-score     support\n",
            "Irrelevant     0.900709  0.742690  0.814103  171.000000\n",
            "Negative       0.778878  0.887218  0.829525  266.000000\n",
            "Neutral        0.903766  0.757895  0.824427  285.000000\n",
            "Positive       0.787975  0.898917  0.839798  277.000000\n",
            "accuracy       0.828829  0.828829  0.828829    0.828829\n",
            "macro avg      0.842832  0.821680  0.826963  999.000000\n",
            "weighted avg   0.837883  0.828829  0.828279  999.000000\n"
          ]
        }
      ],
      "source": [
        "report = classification_report(y_test, predictions, output_dict=True)\n",
        "df_report_nb = pd.DataFrame(report).transpose()\n",
        "print(\"Classification Report Naive Bayes:\")\n",
        "print(df_report_nb)"
      ]
    },
    {
      "cell_type": "code",
      "execution_count": null,
      "metadata": {
        "id": "n5GJd364ECA3"
      },
      "outputs": [],
      "source": [
        "clf = SVC(kernel='linear')\n",
        "clf.fit(X_train, y_train)\n",
        "svm_predictions = clf.predict(X_test)"
      ]
    },
    {
      "cell_type": "code",
      "execution_count": null,
      "metadata": {
        "colab": {
          "base_uri": "https://localhost:8080/"
        },
        "id": "tN46goXGPZHx",
        "outputId": "e58ecdab-2033-4a53-fd31-0c6177789d33"
      },
      "outputs": [
        {
          "name": "stdout",
          "output_type": "stream",
          "text": [
            "Classification Report SVM:\n",
            "              precision    recall  f1-score     support\n",
            "Irrelevant     0.958580  0.947368  0.952941  171.000000\n",
            "Negative       0.966038  0.962406  0.964218  266.000000\n",
            "Neutral        0.961404  0.961404  0.961404  285.000000\n",
            "Positive       0.939286  0.949458  0.944345  277.000000\n",
            "accuracy       0.955956  0.955956  0.955956    0.955956\n",
            "macro avg      0.956327  0.955159  0.955727  999.000000\n",
            "weighted avg   0.956021  0.955956  0.955975  999.000000\n"
          ]
        }
      ],
      "source": [
        "report = classification_report(y_test, svm_predictions, output_dict=True)\n",
        "df_report_svm = pd.DataFrame(report).transpose()\n",
        "print(\"Classification Report SVM:\")\n",
        "print(df_report_svm)"
      ]
    },
    {
      "cell_type": "code",
      "execution_count": null,
      "metadata": {
        "colab": {
          "background_save": true
        },
        "id": "9bQEWw8aYe0g"
      },
      "outputs": [],
      "source": [
        "rf_classifier = RandomForestClassifier(n_estimators=100, random_state=42)\n",
        "rf_classifier.fit(X_train, y_train)\n",
        "rf_predictions = rf_classifier.predict(X_test)"
      ]
    },
    {
      "cell_type": "code",
      "execution_count": null,
      "metadata": {
        "colab": {
          "background_save": true
        },
        "id": "58GRaTv8ZJo9",
        "outputId": "d0290bfa-e712-4e78-a4d3-24019b871a75"
      },
      "outputs": [
        {
          "name": "stdout",
          "output_type": "stream",
          "text": [
            "Classification Report Random Forest:\n",
            "              precision    recall  f1-score     support\n",
            "Irrelevant     0.993631  0.912281  0.951220  171.000000\n",
            "Negative       0.938406  0.973684  0.955720  266.000000\n",
            "Neutral        0.954225  0.950877  0.952548  285.000000\n",
            "Positive       0.950355  0.967509  0.958855  277.000000\n",
            "accuracy       0.954955  0.954955  0.954955    0.954955\n",
            "macro avg      0.959154  0.951088  0.954586  999.000000\n",
            "weighted avg   0.955685  0.954955  0.954914  999.000000\n"
          ]
        }
      ],
      "source": [
        "report = classification_report(y_test, rf_predictions, output_dict=True)\n",
        "df_report_rf = pd.DataFrame(report).transpose()\n",
        "print(\"Classification Report Random Forest:\")\n",
        "print(df_report_rf)"
      ]
    },
    {
      "cell_type": "code",
      "execution_count": null,
      "metadata": {
        "id": "kLPzlXmvY4rm"
      },
      "outputs": [],
      "source": [
        "accuracy_svm = df_report_svm.loc['accuracy', 'precision']\n",
        "accuracy_nb = df_report_nb.loc['accuracy', 'precision']\n",
        "accuracy_rf = df_report_rf.loc['accuracy', 'precision']\n",
        "f1_svm = df_report_svm.loc['weighted avg', 'f1-score']\n",
        "f1_nb = df_report_nb.loc['weighted avg', 'f1-score']\n",
        "f1_rf = df_report_rf.loc['weighted avg', 'f1-score']\n",
        "\n",
        "df_comparison = pd.DataFrame({\n",
        "    'Model': ['SVM', 'Naive Bayes', 'Random Forest'],\n",
        "    'Accuracy': [accuracy_svm, accuracy_nb, accuracy_rf],\n",
        "    'F1 Score': [f1_svm, f1_nb, f1_rf]\n",
        "})"
      ]
    },
    {
      "cell_type": "code",
      "execution_count": null,
      "metadata": {
        "colab": {
          "base_uri": "https://localhost:8080/",
          "height": 675
        },
        "id": "mxT65bnPZZ9F",
        "outputId": "9ca8a863-5875-4076-8b2d-d758fa9140e0"
      },
      "outputs": [
        {
          "output_type": "stream",
          "name": "stderr",
          "text": [
            "<ipython-input-44-c2c77f81bd81>:2: FutureWarning: \n",
            "\n",
            "Passing `palette` without assigning `hue` is deprecated and will be removed in v0.14.0. Assign the `x` variable to `hue` and set `legend=False` for the same effect.\n",
            "\n",
            "  sns.barplot(x='Model', y='F1 Score', data=df_comparison, palette='viridis')\n"
          ]
        },
        {
          "output_type": "display_data",
          "data": {
            "text/plain": [
              "<Figure size 1000x600 with 1 Axes>"
            ],
            "image/png": "[encoded data removed]"
          },
          "metadata": {}
        }
      ],
      "source": [
        "plt.figure(figsize=(10, 6))\n",
        "sns.barplot(x='Model', y='F1 Score', data=df_comparison, palette='viridis')\n",
        "plt.title('F1 Score Comparison of SVM, Naive Bayes, and Random Forest')\n",
        "plt.ylabel('F1 Score')\n",
        "plt.xlabel('Model')\n",
        "plt.ylim(0, 1)\n",
        "plt.show()"
      ]
    },
    {
      "cell_type": "code",
      "execution_count": null,
      "metadata": {
        "colab": {
          "base_uri": "https://localhost:8080/",
          "height": 675
        },
        "id": "AGkfVHLcWbMs",
        "outputId": "ed793016-bf1c-41bb-9f39-33d62d6495f1"
      },
      "outputs": [
        {
          "output_type": "stream",
          "name": "stderr",
          "text": [
            "<ipython-input-40-2a7bb0976000>:2: FutureWarning: \n",
            "\n",
            "Passing `palette` without assigning `hue` is deprecated and will be removed in v0.14.0. Assign the `x` variable to `hue` and set `legend=False` for the same effect.\n",
            "\n",
            "  sns.barplot(x='Model', y='Accuracy', data=df_comparison, palette='viridis')\n"
          ]
        },
        {
          "output_type": "display_data",
          "data": {
            "text/plain": [
              "<Figure size 1000x600 with 1 Axes>"
            ],
            "image/png": "[encoded data removed]"
          },
          "metadata": {}
        }
      ],
      "source": [
        "plt.figure(figsize=(10, 6))\n",
        "sns.barplot(x='Model', y='Accuracy', data=df_comparison, palette='viridis')\n",
        "plt.title('Accuracy Comparison of SVM, Naive Bayes, and Random Forest')\n",
        "plt.ylabel('Accuracy')\n",
        "plt.xlabel('Model')\n",
        "plt.ylim(0, 1)\n",
        "plt.show()"
      ]
    },
    {
      "cell_type": "code",
      "execution_count": null,
      "metadata": {
        "colab": {
          "background_save": true
        },
        "id": "vdEWSUbH99fb"
      },
      "outputs": [],
      "source": [
        "models = ['SVM', 'Naive Bayes', 'Random Forest']\n",
        "times = [42*60 + 49, 1, 5*60 + 2]\n",
        "plt.figure(figsize=(10, 6))\n",
        "plt.bar(models, times, color=['blue', 'green', 'red'])\n",
        "plt.title('Comparison of Model Training Times')\n",
        "plt.xlabel('Models')\n",
        "plt.ylabel('Time (seconds)')\n",
        "for i, time in enumerate(times):\n",
        "    plt.text(i, time + 10, f'{time//60}m {time%60}s', ha='center', va='bottom')\n",
        "plt.show()"
      ]
    }
  ],
  "metadata": {
    "colab": {
      "collapsed_sections": [
        "RER9WjluQa8c",
        "1ZGdnGoQWo3V"
      ],
      "provenance": []
    },
    "kernelspec": {
      "display_name": "Python 3",
      "name": "python3"
    },
    "language_info": {
      "name": "python"
    }
  },
  "nbformat": 4,
  "nbformat_minor": 0
}